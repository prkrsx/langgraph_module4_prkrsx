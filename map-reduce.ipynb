{
 "cells": [
  {
   "cell_type": "markdown",
   "id": "4cd4f701",
   "metadata": {},
   "source": [
    "[![Open in Colab](https://colab.research.google.com/assets/colab-badge.svg)](https://colab.research.google.com/github/langchain-ai/langchain-academy/blob/main/module-4/map-reduce.ipynb) [![Open in LangChain Academy](https://cdn.prod.website-files.com/65b8cd72835ceeacd4449a53/66e9eba12c7b7688aa3dbb5e_LCA-badge-green.svg)](https://academy.langchain.com/courses/take/intro-to-langgraph/lessons/58239947-lesson-3-map-reduce)"
   ]
  },
  {
   "cell_type": "markdown",
   "id": "36737349-c949-4d64-9aa3-3767cbd02ad1",
   "metadata": {},
   "source": [
    "# Map-reduce\n",
    "\n",
    "## Review\n",
    "\n",
    "We're building up to a multi-agent research assistant that ties together all of the modules from this course.\n",
    "\n",
    "To build this multi-agent assistant, we've been introducing a few LangGraph controllability topics.\n",
    "\n",
    "We just covered parallelization and sub-graphs.\n",
    "\n",
    "## Goals\n",
    "\n",
    "Now, we're going to cover [map reduce](https://langchain-ai.github.io/langgraph/how-tos/map-reduce/)."
   ]
  },
  {
   "cell_type": "code",
   "execution_count": 13,
   "id": "f24e95c8",
   "metadata": {},
   "outputs": [],
   "source": [
    "%%capture --no-stderr\n",
    "%pip install -U langchain_openai langgraph"
   ]
  },
  {
   "cell_type": "code",
   "execution_count": 14,
   "id": "ff57cbf7",
   "metadata": {},
   "outputs": [],
   "source": [
    "import os, getpass\n",
    "\n",
    "def _set_env(var: str):\n",
    "    if not os.environ.get(var):\n",
    "        os.environ[var] = getpass.getpass(f\"{var}: \")\n",
    "\n",
    "_set_env(\"OPENAI_API_KEY\")"
   ]
  },
  {
   "cell_type": "markdown",
   "id": "cbcd868a",
   "metadata": {},
   "source": [
    "We'll use [LangSmith](https://docs.smith.langchain.com/) for [tracing](https://docs.smith.langchain.com/concepts/tracing)."
   ]
  },
  {
   "cell_type": "code",
   "execution_count": 15,
   "id": "9fdc647f",
   "metadata": {},
   "outputs": [],
   "source": [
    "_set_env(\"LANGSMITH_API_KEY\")\n",
    "os.environ[\"LANGSMITH_TRACING\"] = \"true\"\n",
    "os.environ[\"LANGSMITH_PROJECT\"] = \"langchain-academy\""
   ]
  },
  {
   "cell_type": "markdown",
   "id": "2bbe9b9f-4375-4bca-8e32-7d57cb861469",
   "metadata": {},
   "source": [
    "## Problem\n",
    "\n",
    "Map-reduce operations are essential for efficient task decomposition and parallel processing. \n",
    "\n",
    "It has two phases:\n",
    "\n",
    "(1) `Map` - Break a task into smaller sub-tasks, processing each sub-task in parallel.\n",
    "\n",
    "(2) `Reduce` - Aggregate the results across all of the completed, parallelized sub-tasks.\n",
    "\n",
    "Let's design a system that will do two things:\n",
    "\n",
    "(1) `Map` - Create a set of jokes about a topic.\n",
    "\n",
    "(2) `Reduce` - Pick the best joke from the list.\n",
    "\n",
    "We'll use an LLM to do the job generation and selection."
   ]
  },
  {
   "cell_type": "code",
   "execution_count": 16,
   "id": "994cf903-1ed6-4ae2-b32a-7891a2808f81",
   "metadata": {},
   "outputs": [],
   "source": [
    "from langchain_openai import ChatOpenAI\n",
    "\n",
    "# Prompts we will use\n",
    "subjects_prompt = \"\"\"Generate a list of 3 sub-topics that are all related to this overall topic: {topic}.\"\"\"\n",
    "poem_prompt = \"\"\"Write a short poem about {subject}\"\"\"\n",
    "best_poem_prompt = \"\"\"Below are a bunch of poems about {topic}. Select the best one! Return the ID of the best one, starting 0 as the ID for the first poem. Poems: \\n\\n  {poems}\"\"\"\n",
    "\n",
    "# LLM\n",
    "model = ChatOpenAI(model=\"gpt-4o\", temperature=0) "
   ]
  },
  {
   "cell_type": "markdown",
   "id": "f3b883cc-3469-4e96-b1a4-deadf7bf3ce5",
   "metadata": {},
   "source": [
    "## State\n",
    "\n",
    "### Parallelizing joke generation\n",
    "\n",
    "First, let's define the entry point of the graph that will:\n",
    "\n",
    "* Take a user input topic\n",
    "* Produce a list of joke topics from it\n",
    "* Send each joke topic to our above joke generation node\n",
    "\n",
    "Our state has a `jokes` key, which will accumulate jokes from parallelized joke generation"
   ]
  },
  {
   "cell_type": "code",
   "execution_count": 17,
   "id": "099218ca-ee78-4291-95a1-87ee61382e3b",
   "metadata": {},
   "outputs": [],
   "source": [
    "import operator\n",
    "from typing import Annotated\n",
    "from typing_extensions import TypedDict\n",
    "from pydantic import BaseModel\n",
    "\n",
    "class Subjects(BaseModel):\n",
    "    subjects: list[str]\n",
    "\n",
    "class BestPoem(BaseModel):\n",
    "    id: int\n",
    "    \n",
    "class OverallState(TypedDict):\n",
    "    topic: str\n",
    "    subjects: list\n",
    "    poems: Annotated[list, operator.add]\n",
    "    best_selected_poem: str"
   ]
  },
  {
   "cell_type": "markdown",
   "id": "c7176d1c-4a88-4b0f-a960-ee04a45279bd",
   "metadata": {},
   "source": [
    "Generate subjects for jokes."
   ]
  },
  {
   "cell_type": "code",
   "execution_count": 18,
   "id": "45010efd-ad31-4daa-b77e-aaec79ef0309",
   "metadata": {},
   "outputs": [],
   "source": [
    "def generate_topics(state: OverallState):\n",
    "    prompt = subjects_prompt.format(topic=state[\"topic\"])\n",
    "    response = model.with_structured_output(Subjects).invoke(prompt)\n",
    "    return {\"subjects\": response.subjects}"
   ]
  },
  {
   "cell_type": "markdown",
   "id": "e5296bb0-c163-4e5c-8181-1e305b37442a",
   "metadata": {},
   "source": [
    "Here is the magic: we use the [Send](https://langchain-ai.github.io/langgraph/concepts/low_level/#send) to create a joke for each subject.\n",
    "\n",
    "This is very useful! It can automatically parallelize joke generation for any number of subjects.\n",
    "\n",
    "* `generate_joke`: the name of the node in the graph\n",
    "* `{\"subject\": s`}: the state to send\n",
    "\n",
    "`Send` allow you to pass any state that you want to `generate_joke`! It does not have to align with `OverallState`.\n",
    "\n",
    "In this case, `generate_joke` is using its own internal state, and we can populate this via `Send`."
   ]
  },
  {
   "cell_type": "code",
   "execution_count": 19,
   "id": "bc83e575-11f6-41a9-990a-adb571bcda06",
   "metadata": {},
   "outputs": [],
   "source": [
    "from langgraph.types import Send\n",
    "def continue_to_poems(state: OverallState):\n",
    "    return [Send(\"generate_poem\", {\"subject\": s}) for s in state[\"subjects\"]]"
   ]
  },
  {
   "cell_type": "markdown",
   "id": "9847192d-d358-411e-90c0-f06be0738717",
   "metadata": {},
   "source": [
    "### Joke generation (map)\n",
    "\n",
    "Now, we just define a node that will create our jokes, `generate_joke`!\n",
    "\n",
    "We write them back out to `jokes` in `OverallState`! \n",
    "\n",
    "This key has a reducer that will combine lists."
   ]
  },
  {
   "cell_type": "code",
   "execution_count": 20,
   "id": "bcddc567-73d3-4fb3-bfc5-1bea538f2aab",
   "metadata": {},
   "outputs": [],
   "source": [
    "class PoemState(TypedDict):\n",
    "    subject: str\n",
    "\n",
    "class Poem(BaseModel):\n",
    "    poem: str\n",
    "\n",
    "def generate_poem(state: PoemState):\n",
    "    prompt = poem_prompt.format(subject=state[\"subject\"])\n",
    "    response = model.with_structured_output(Poem).invoke(prompt)\n",
    "    return {\"poems\": [response.poem]}"
   ]
  },
  {
   "cell_type": "markdown",
   "id": "02960657-d174-4076-99a8-b3f9eea015f4",
   "metadata": {},
   "source": [
    "### Best joke selection (reduce)\n",
    "\n",
    "Now, we add logic to pick the best joke."
   ]
  },
  {
   "cell_type": "code",
   "execution_count": 21,
   "id": "8d672870-75e3-4307-bda0-c41a86cbbaff",
   "metadata": {},
   "outputs": [],
   "source": [
    "def best_poem(state: OverallState):\n",
    "    poems = \"\\n\\n\".join(state[\"poems\"])\n",
    "    prompt = best_poem_prompt.format(topic=state[\"topic\"], poems=poems)\n",
    "    response = model.with_structured_output(BestPoem).invoke(prompt)\n",
    "    return {\"best_selected_poem\": state[\"poems\"][response.id]}"
   ]
  },
  {
   "cell_type": "markdown",
   "id": "837cd12e-5bff-426e-97f4-c774df998cfb",
   "metadata": {},
   "source": [
    "## Compile"
   ]
  },
  {
   "cell_type": "code",
   "execution_count": 22,
   "id": "2ae6be4b-144e-483c-88ad-ce86d6477a0d",
   "metadata": {},
   "outputs": [
    {
     "data": {
      "image/png": "[encoded data removed]",
      "text/plain": [
       "<IPython.core.display.Image object>"
      ]
     },
     "execution_count": 22,
     "metadata": {},
     "output_type": "execute_result"
    }
   ],
   "source": [
    "from IPython.display import Image\n",
    "from langgraph.graph import END, StateGraph, START\n",
    "\n",
    "# Construct the graph: here we put everything together to construct our graph\n",
    "graph = StateGraph(OverallState)\n",
    "graph.add_node(\"generate_topics\", generate_topics)\n",
    "graph.add_node(\"generate_poem\", generate_poem)\n",
    "graph.add_node(\"best_poem\", best_poem)\n",
    "graph.add_edge(START, \"generate_topics\")\n",
    "graph.add_conditional_edges(\"generate_topics\", continue_to_poems, [\"generate_poem\"])\n",
    "graph.add_edge(\"generate_poem\", \"best_poem\")\n",
    "graph.add_edge(\"best_poem\", END)\n",
    "\n",
    "# Compile the graph\n",
    "app = graph.compile()\n",
    "Image(app.get_graph().draw_mermaid_png())"
   ]
  },
  {
   "cell_type": "code",
   "execution_count": 24,
   "id": "e21dc7c9-0add-4125-be76-af701adb874a",
   "metadata": {},
   "outputs": [
    {
     "name": "stdout",
     "output_type": "stream",
     "text": [
      "{'generate_topics': {'subjects': ['History of Writing Instruments', 'Innovations in Pen Technology', 'Environmental Impact of Disposable Pens']}}\n",
      "{'generate_poem': {'poems': [\"In the realm of ink and quill, where stories once began,  \\nA new dawn rises, led by the inventive hand.  \\nFrom feathered tips to ballpoint grace,  \\nThe pen evolves, a timeless race.\\n\\nOnce dipped in wells of midnight blue,  \\nNow cartridges of every hue,  \\nWith clicks and twists, the ink flows free,  \\nA symphony of creativity.\\n\\nErgonomic curves that fit just right,  \\nIn hands that dream and hearts that write,  \\nWith pressure sensors, they now detect,  \\nThe weight of thoughts, the mind's dialect.\\n\\nSmart pens that sync with digital skies,  \\nTranscribing words with no disguise,  \\nFrom paper to screen, a seamless flight,  \\nBridging worlds of day and night.\\n\\nIn the dance of innovation's light,  \\nThe pen remains a beacon bright,  \\nA tool of change, a scribe's delight,  \\nIn every stroke, a future's insight.\"]}}\n",
      "{'generate_poem': {'poems': [\"In the quiet hum of a bustling day,  \\nLies a tool we often throw away.  \\nA pen, so small, yet vast its reach,  \\nIn lessons learned and tales to teach.\\n\\nCrafted with care, its purpose clear,  \\nTo capture thoughts we hold so dear.  \\nYet, once its ink has run its course,  \\nIt finds its fate in waste's remorse.\\n\\nA million pens, a million dreams,  \\nFlowing down the plastic streams.  \\nTheir shells, once vibrant, now decay,  \\nIn landfills where they slowly lay.\\n\\nThe forests sigh, the oceans weep,  \\nFor every pen that we don't keep.  \\nA cycle of use, then swift discard,  \\nLeaves nature's beauty deeply scarred.\\n\\nBut in our hands, the power lies,  \\nTo change the course, to be more wise.  \\nTo choose a pen that lasts and stays,  \\nAnd write a future in greener ways.\\n\\nSo let us pause, reflect, and mend,  \\nThe impact of each pen we send.  \\nFor in our choices, hope can bloom,  \\nAnd turn the tide of plastic's gloom.\"]}}\n",
      "{'generate_poem': {'poems': [\"In ancient lands where stories first took flight,  \\nThe dawn of writing broke the silent night.  \\nWith reeds and clay, the Sumerians began,  \\nTo etch their tales upon the earth's own span.\\n\\nThe Egyptians, with their papyrus scrolls,  \\nCrafted hieroglyphs to capture souls.  \\nIn ink and quill, the Greeks would scribe,  \\nPhilosophies that time could not imbibe.\\n\\nThe Romans, with their stylus and wax,  \\nCarved out decrees and simple facts.  \\nWhile in the East, the brush did dance,  \\nOn silk and paper, a graceful trance.\\n\\nMedieval monks in candlelit cells,  \\nWith quills and vellum, their stories tell.  \\nIlluminated scripts, a labor of love,  \\nGuided by faith and stars above.\\n\\nThe Renaissance brought the printing press,  \\nA revolution, words to impress.  \\nInk flowed freely, knowledge spread,  \\nA world awakened, well-read.\\n\\nIn modern times, the pen evolved,  \\nFrom fountain's grace to ballpoint's resolve.  \\nYet in the digital age, we still find,  \\nThe power of words, the ink of the mind.\\n\\nSo here's to the tools that shaped our lore,  \\nFrom ancient reeds to bytes and more.  \\nFor in each stroke, a story's spun,  \\nThe history of writing, forever begun.\"]}}\n",
      "{'best_poem': {'best_selected_poem': \"In the quiet hum of a bustling day,  \\nLies a tool we often throw away.  \\nA pen, so small, yet vast its reach,  \\nIn lessons learned and tales to teach.\\n\\nCrafted with care, its purpose clear,  \\nTo capture thoughts we hold so dear.  \\nYet, once its ink has run its course,  \\nIt finds its fate in waste's remorse.\\n\\nA million pens, a million dreams,  \\nFlowing down the plastic streams.  \\nTheir shells, once vibrant, now decay,  \\nIn landfills where they slowly lay.\\n\\nThe forests sigh, the oceans weep,  \\nFor every pen that we don't keep.  \\nA cycle of use, then swift discard,  \\nLeaves nature's beauty deeply scarred.\\n\\nBut in our hands, the power lies,  \\nTo change the course, to be more wise.  \\nTo choose a pen that lasts and stays,  \\nAnd write a future in greener ways.\\n\\nSo let us pause, reflect, and mend,  \\nThe impact of each pen we send.  \\nFor in our choices, hope can bloom,  \\nAnd turn the tide of plastic's gloom.\"}}\n"
     ]
    }
   ],
   "source": [
    "# Call the graph: here we call it to generate a list of poems\n",
    "for s in app.stream({\"topic\": \"Pens\"}):\n",
    "    print(s)"
   ]
  },
  {
   "attachments": {},
   "cell_type": "markdown",
   "id": "2a96517e-77ab-46e2-95e2-79168c044e9c",
   "metadata": {},
   "source": [
    "## Studio\n",
    "\n",
    "**⚠️ DISCLAIMER**\n",
    "\n",
    "Since the filming of these videos, we've updated Studio so that it can be run locally and opened in your browser. This is now the preferred way to run Studio (rather than using the Desktop App as shown in the video). See documentation [here](https://langchain-ai.github.io/langgraph/concepts/langgraph_studio/#local-development-server) on the local development server and [here](https://langchain-ai.github.io/langgraph/how-tos/local-studio/#run-the-development-server). To start the local development server, run the following command in your terminal in the `/studio` directory in this module:\n",
    "\n",
    "```\n",
    "langgraph dev\n",
    "```\n",
    "\n",
    "You should see the following output:\n",
    "```\n",
    "- 🚀 API: http://127.0.0.1:2024\n",
    "- 🎨 Studio UI: https://smith.langchain.com/studio/?baseUrl=http://127.0.0.1:2024\n",
    "- 📚 API Docs: http://127.0.0.1:2024/docs\n",
    "```\n",
    "\n",
    "Open your browser and navigate to the Studio UI: `https://smith.langchain.com/studio/?baseUrl=http://127.0.0.1:2024`.\n",
    "\n",
    "Let's load our the above graph in the Studio UI, which uses `module-4/studio/map_reduce.py` set in `module-4/studio/langgraph.json`."
   ]
  },
  {
   "cell_type": "code",
   "execution_count": null,
   "id": "741a5e45-9a4c-43b4-8393-9298b3dcda53",
   "metadata": {},
   "outputs": [],
   "source": []
  }
 ],
 "metadata": {
  "kernelspec": {
   "display_name": "lc-academy-env",
   "language": "python",
   "name": "python3"
  },
  "language_info": {
   "codemirror_mode": {
    "name": "ipython",
    "version": 3
   },
   "file_extension": ".py",
   "mimetype": "text/x-python",
   "name": "python",
   "nbconvert_exporter": "python",
   "pygments_lexer": "ipython3",
   "version": "3.13.6"
  }
 },
 "nbformat": 4,
 "nbformat_minor": 5
}
